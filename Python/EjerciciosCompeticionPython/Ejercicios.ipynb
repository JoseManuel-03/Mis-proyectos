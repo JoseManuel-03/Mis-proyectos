{
 "cells": [
  {
   "cell_type": "code",
   "execution_count": 11,
   "metadata": {},
   "outputs": [
    {
     "name": "stdout",
     "output_type": "stream",
     "text": [
      "Advertencia de la velocidad del asteroide\n"
     ]
    }
   ],
   "source": [
    "velocidad = 49\n",
    "\n",
    "if velocidad > 25:\n",
    "    print(\"Advertencia de la velocidad del asteroide\")\n",
    "\n",
    "else:\n",
    "    print(\"No necesita advertencia\")\n",
    "\n"
   ]
  },
  {
   "cell_type": "code",
   "execution_count": 12,
   "metadata": {},
   "outputs": [
    {
     "name": "stdout",
     "output_type": "stream",
     "text": [
      "Hay un asteroide que se dirige a la tierra ahora a una velocidad de  29 y se puede ver el rayo desde la tierra y se quemará a medida que entren en la atmósfera de la Tierra\n"
     ]
    }
   ],
   "source": [
    "velocidad = 29\n",
    "tamaño = 20\n",
    "\n",
    "if velocidad >= 20 and tamaño < 25:\n",
    "    print(\"Hay un asteroide que se dirige a la tierra ahora a una velocidad de \",str(velocidad) ,\"y se puede ver el rayo desde la tierra y se quemará a medida que entren en la atmósfera de la Tierra\" )\n",
    "\n",
    "elif velocidad < 20 and tamaño < 25:\n",
    "    print(\"Hay un que se dirige a la tierra ahora a una velocidad mayor de\" ,str(velocidad),\"y no se puede ver el rayo desde la tierra y se quemará a medida que entren en la atmósfera de la Tierra\")\n",
    "\n",
    "\n",
    "elif velocidad >= 20 and tamaño > 25 and tamaño <1000:\n",
    "    print(\"Hay un que se dirige a la tierra ahora a una velocidad mayor de\" ,str(velocidad),\"y se puede ver el rayo desde la tierra y causaría muchísimo daño y causaría muchísimo daño\") \n",
    "\n",
    "elif velocidad < 20 and tamaño > 25 and tamaño <1000:\n",
    "   print(\"Hay un que se dirige a la tierra ahora a una velocidad mayor de\" ,str(velocidad),\"y no se puede ver el rayo desde la tierra y causaría muchísimo daño\")\n",
    "\n"
   ]
  },
  {
   "cell_type": "code",
   "execution_count": 19,
   "metadata": {},
   "outputs": [
    {
     "name": "stdout",
     "output_type": "stream",
     "text": [
      "\n",
      "On average, the Moon moves 4cm away from the Earth every year\n",
      " The highest daylight temperature of\n",
      "the Moon is 127 Celsius\n"
     ]
    }
   ],
   "source": [
    "\n",
    "text = \"\"\"Interesting facts about the Moon.The Moon is Earth's only satellite.There are several interesting facts about the Moon and how it affects life here on Earth.\n",
    "On average, the Moon moves 4cm away from the Earth every year. This yearly drift is not significant enought to cause immediate effects on Earth. The highest daylight temperature of\n",
    "the Moon is 127 C.\"\"\"\n",
    "\n",
    "texto = text.split(\".\")\n",
    "for elemento in texto:\n",
    "    if \"average\" in elemento or \"temperature\" in elemento or \"distance\" in elemento:\n",
    "        textoNuevo = elemento.replace(\"C\", \"Celsius\")\n",
    "        print(textoNuevo)\n",
    "      \n",
    "    "
   ]
  },
  {
   "cell_type": "code",
   "execution_count": 20,
   "metadata": {},
   "outputs": [
    {
     "name": "stdout",
     "output_type": "stream",
     "text": [
      "Titulo\n",
      "------------------------------------\n",
      "Earth\n",
      "Moon : 0.00162\n"
     ]
    }
   ],
   "source": [
    "\n",
    "name = \"Moon\"\n",
    "gravity = 0.00162\n",
    "planet = \"Earth\"\n",
    "titulo = \"Titulo\"\n",
    "separador = \"------------------------------------\"\n",
    "\n",
    "text=\"\"\"{0}\n",
    "{4}\n",
    "{2}\n",
    "{1} : {3}\"\"\".format(titulo, name, planet, gravity, separador)\n",
    "print (text)\n",
    "\n"
   ]
  },
  {
   "cell_type": "code",
   "execution_count": 24,
   "metadata": {},
   "outputs": [
    {
     "name": "stdout",
     "output_type": "stream",
     "text": [
      "628949330\n",
      "390577533.93\n"
     ]
    }
   ],
   "source": [
    "Tierra = 149597870\n",
    "Jupiter = 778547200\n",
    "\n",
    "Resta = (Jupiter - Tierra)\n",
    "Mult = Resta *0.621 \n",
    "print(Resta)\n",
    "print(Mult)\n",
    "\n"
   ]
  },
  {
   "cell_type": "code",
   "execution_count": 26,
   "metadata": {},
   "outputs": [
    {
     "name": "stdout",
     "output_type": "stream",
     "text": [
      "33760790.442\n"
     ]
    }
   ],
   "source": [
    "Planeta1 = int(input(\"Distancia1\"))\n",
    "Planeta2 = int(input(\"Distancia2\"))\n",
    "\n",
    "calculo = abs(Planeta2 - Planeta1)*0.621\n",
    "print(calculo)\n"
   ]
  },
  {
   "cell_type": "code",
   "execution_count": 14,
   "metadata": {},
   "outputs": [
    {
     "name": "stdout",
     "output_type": "stream",
     "text": [
      "['Mercurio', 'Venus', 'Marte', 'Tierra', 'Saturno', 'Jupiter', 'Urano', 'Neptuno']\n",
      "['Mercurio', 'Venus', 'Marte', 'Tierra', 'Saturno', 'Jupiter', 'Urano', 'Neptuno', 'Plutón']\n",
      "Plutón\n"
     ]
    }
   ],
   "source": [
    "planets = ['Mercurio','Venus','Marte','Tierra','Saturno', 'Jupiter', 'Urano', 'Neptuno']\n",
    "print(planets)\n",
    "\n",
    "planets.append('Plutón')\n",
    "print(planets)\n",
    "print(planets[-1])\n"
   ]
  },
  {
   "cell_type": "code",
   "execution_count": 15,
   "metadata": {},
   "outputs": [
    {
     "name": "stdout",
     "output_type": "stream",
     "text": [
      "4\n",
      "['Mercurio', 'Venus', 'Marte', 'Tierra']\n",
      "['Jupiter', 'Urano', 'Neptuno']\n"
     ]
    }
   ],
   "source": [
    "nombrePlaneta = input('Nombre')\n",
    "planets = ['Mercurio','Venus','Marte','Tierra','Saturno', 'Jupiter', 'Urano', 'Neptuno']\n",
    "buscar = planets.index(nombrePlaneta)\n",
    "print(buscar)\n",
    "\n",
    "posicionSolCercanos = planets[0:buscar]\n",
    "print(posicionSolCercanos)\n",
    "\n",
    "posicionSolLejanos = planets[buscar+1:]\n",
    "print(posicionSolLejanos)"
   ]
  },
  {
   "cell_type": "code",
   "execution_count": null,
   "metadata": {},
   "outputs": [],
   "source": []
  }
 ],
 "metadata": {
  "kernelspec": {
   "display_name": "Python 3",
   "language": "python",
   "name": "python3"
  },
  "language_info": {
   "codemirror_mode": {
    "name": "ipython",
    "version": 3
   },
   "file_extension": ".py",
   "mimetype": "text/x-python",
   "name": "python",
   "nbconvert_exporter": "python",
   "pygments_lexer": "ipython3",
   "version": "3.13.0"
  }
 },
 "nbformat": 4,
 "nbformat_minor": 2
}
