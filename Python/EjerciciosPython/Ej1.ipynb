{
 "cells": [
  {
   "cell_type": "code",
   "execution_count": 18,
   "metadata": {},
   "outputs": [
    {
     "name": "stdout",
     "output_type": "stream",
     "text": [
      "....;---;.-..;.-;- ;.--.;-.--;-;....;---;-.;\n"
     ]
    }
   ],
   "source": [
    "def pasar_morse(palabra):\n",
    "    letras = { 'A': '.-',\t\t'B': '-...',  \t\t'C': '-.-.',\t'D': '-..', \n",
    "    'E': '.',       'F': '..-.',\t\t'G': '--.',\t\t'H': '....', \n",
    "    'I': '..',\t\t'J': '.---',\t\t'K': '-.-',\t\t'L': '.-..', \n",
    "    'M': '--',\t\t'N': '-.',  \t\t'O': '---',\t\t'P': '.--.', \n",
    "    'Q': '--.-',\t'R': '.-.',\t\t\t'S': '...',\t\t'T': '-', \n",
    "    'U': '..-',\t\t'V': '...-',\t\t'W': '.--',\t\t'X': '-..-', \n",
    "    'Y': '-.--',\t'Z': '--..' }\n",
    "    \n",
    "\n",
    "    letras[\" \"] = \" \"\n",
    "\n",
    "    codigo = \"\"\n",
    "\n",
    "    for letra in palabra:\n",
    "        if letra == \" \":\n",
    "            codigo = codigo + \"-\"\n",
    "        codigo = codigo + letras[letra] + \";\"\n",
    "\n",
    "    return codigo\n",
    "\n",
    "   \n",
    "print(pasar_morse(input('Introduce palabra')))\n"
   ]
  },
  {
   "cell_type": "code",
   "execution_count": 19,
   "metadata": {},
   "outputs": [
    {
     "name": "stdout",
     "output_type": "stream",
     "text": [
      "HOLAPYTHON\n"
     ]
    }
   ],
   "source": [
    "def morse_palabra(palabra):\n",
    "    letras = { 'A': '.-',\t\t'B': '-...',  \t\t'C': '-.-.',\t'D': '-..', \n",
    "    'E': '.',       'F': '..-.',\t\t'G': '--.',\t\t'H': '....', \n",
    "    'I': '..',\t\t'J': '.---',\t\t'K': '-.-',\t\t'L': '.-..', \n",
    "    'M': '--',\t\t'N': '-.',  \t\t'O': '---',\t\t'P': '.--.', \n",
    "    'Q': '--.-',\t'R': '.-.',\t\t\t'S': '...',\t\t'T': '-', \n",
    "    'U': '..-',\t\t'V': '...-',\t\t'W': '.--',\t\t'X': '-..-', \n",
    "    'Y': '-.--',\t'Z': '--..' }\n",
    "\n",
    "    \n",
    "\n",
    "    letras_invertido = {valor: clave for clave, valor in letras.items()}\n",
    "\n",
    "    separador = palabra.split(\";\")\n",
    "\n",
    "    codigo = \"\"\n",
    "\n",
    "    for letra in separador:\n",
    "         if letra:  \n",
    "            if letra in letras_invertido:\n",
    "                codigo = codigo + letras_invertido[letra]\n",
    "        \n",
    "            \n",
    "    return codigo\n",
    "\n",
    "   \n",
    "print(morse_palabra(input('Introduce morse')))\n"
   ]
  },
  {
   "cell_type": "code",
   "execution_count": 29,
   "metadata": {},
   "outputs": [
    {
     "name": "stdout",
     "output_type": "stream",
     "text": [
      "....;---;.-..;.-;.-; .--.;-.--;-;....;---;-.; .;-..;..-.;...;..-.;-..;\n"
     ]
    }
   ],
   "source": [
    "def codificar_mensaje(mensaje):\n",
    "\n",
    "    palabras = mensaje.split()\n",
    "\n",
    "    palabras_codificadas = []\n",
    "\n",
    "    for palabra in palabras:\n",
    "        palabras_codificadas.append(pasar_morse(palabra))\n",
    "\n",
    "    return \" \".join(palabras_codificadas)\n",
    "\n",
    "\n",
    "\n",
    "print(codificar_mensaje(input('Introduce palabra')))\n"
   ]
  },
  {
   "cell_type": "code",
   "execution_count": 28,
   "metadata": {},
   "outputs": [
    {
     "name": "stdout",
     "output_type": "stream",
     "text": [
      "DTOF DFODSJ SD\n"
     ]
    }
   ],
   "source": [
    "\n",
    "def decodificar_mensaje(mensaje_morse): \n",
    "\n",
    "    palabras_morse = mensaje_morse.split(\" \")\n",
    "    palabras_decodificadas = [morse_palabra(palabra) for palabra in palabras_morse]\n",
    "    \n",
    "    return \" \".join(palabras_decodificadas)\n",
    "    \n",
    "\n",
    "\n",
    "\n",
    "print(decodificar_mensaje(input('Introduce palabra')))"
   ]
  }
 ],
 "metadata": {
  "kernelspec": {
   "display_name": "Python 3",
   "language": "python",
   "name": "python3"
  },
  "language_info": {
   "codemirror_mode": {
    "name": "ipython",
    "version": 3
   },
   "file_extension": ".py",
   "mimetype": "text/x-python",
   "name": "python",
   "nbconvert_exporter": "python",
   "pygments_lexer": "ipython3",
   "version": "3.11.9"
  }
 },
 "nbformat": 4,
 "nbformat_minor": 2
}
