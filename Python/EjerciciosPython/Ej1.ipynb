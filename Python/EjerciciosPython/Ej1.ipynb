{
 "cells": [
  {
   "cell_type": "code",
   "execution_count": 28,
   "metadata": {},
   "outputs": [
    {
     "data": {
      "text/plain": [
       "[dict_values(['.-', '-...', '-.-.', '-..', '.', '..-.', '--.', '....', '..', '.---', '-.-', '.-..', '--', '-.', '---', '.--.', '--.-', '.-.', '...', '-', '..-', '...-', '.--', '-..-', '-.--', '--..'])]"
      ]
     },
     "execution_count": 28,
     "metadata": {},
     "output_type": "execute_result"
    }
   ],
   "source": [
    "def pasar_morse(palabra):\n",
    "    letras = { 'A': '.-',\t\t'B': '-...',  \t\t'C': '-.-.',\t'D': '-..', \n",
    "    'E': '.',       'F': '..-.',\t\t'G': '--.',\t\t'H': '....', \n",
    "    'I': '..',\t\t'J': '.---',\t\t'K': '-.-',\t\t'L': '.-..', \n",
    "    'M': '--',\t\t'N': '-.',  \t\t'O': '---',\t\t'P': '.--.', \n",
    "    'Q': '--.-',\t'R': '.-.',\t\t\t'S': '...',\t\t'T': '-', \n",
    "    'U': '..-',\t\t'V': '...-',\t\t'W': '.--',\t\t'X': '-..-', \n",
    "    'Y': '-.--',\t'Z': '--..' }\n",
    "    \n",
    "    lista = []\n",
    "    for letra in palabra:\n",
    "        lista.append(letras.values()) \n",
    "    return(lista)\n",
    "    \n",
    "\n",
    "  \n",
    "#input(\"Dime palabra\")\n",
    "pasar_morse(\"H\")"
   ]
  }
 ],
 "metadata": {
  "kernelspec": {
   "display_name": "Python 3",
   "language": "python",
   "name": "python3"
  },
  "language_info": {
   "codemirror_mode": {
    "name": "ipython",
    "version": 3
   },
   "file_extension": ".py",
   "mimetype": "text/x-python",
   "name": "python",
   "nbconvert_exporter": "python",
   "pygments_lexer": "ipython3",
   "version": "3.13.0"
  }
 },
 "nbformat": 4,
 "nbformat_minor": 2
}
